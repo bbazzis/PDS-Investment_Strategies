{
 "cells": [
  {
   "cell_type": "code",
   "execution_count": 1,
   "metadata": {},
   "outputs": [],
   "source": [
    "import pandas as pd\n",
    "import numpy as np\n",
    "from itertools import product"
   ]
  },
  {
   "cell_type": "code",
   "execution_count": 2,
   "metadata": {},
   "outputs": [],
   "source": [
    "df_stocks = pd.read_csv('../data/amundi-msci-wrld-ae-c.csv')\n",
    "df_corp_bonds = pd.read_csv('../data/ishares-global-corporate-bond-$.csv')\n",
    "df_pub_bonds = pd.read_csv('../data/db-x-trackers-ii-global-sovereign-5.csv')\n",
    "df_gold = pd.read_csv('../data/spdr-gold-trust.csv')\n",
    "df_cash = pd.read_csv('../data/usdollar.csv')"
   ]
  },
  {
   "cell_type": "markdown",
   "metadata": {},
   "source": [
    "1.3 Tasks related to investment strategies generation"
   ]
  },
  {
   "cell_type": "markdown",
   "metadata": {},
   "source": [
    "Portfolio allocation"
   ]
  },
  {
   "cell_type": "code",
   "execution_count": 3,
   "metadata": {},
   "outputs": [
    {
     "name": "stdout",
     "output_type": "stream",
     "text": [
      "[(0, 0, 0, 0, 100), (0, 0, 0, 20, 80), (0, 0, 0, 40, 60), (0, 0, 0, 60, 40), (0, 0, 0, 80, 20), (0, 0, 0, 100, 0), (0, 0, 20, 0, 80), (0, 0, 20, 20, 60), (0, 0, 20, 40, 40), (0, 0, 20, 60, 20), (0, 0, 20, 80, 0), (0, 0, 40, 0, 60), (0, 0, 40, 20, 40), (0, 0, 40, 40, 20), (0, 0, 40, 60, 0), (0, 0, 60, 0, 40), (0, 0, 60, 20, 20), (0, 0, 60, 40, 0), (0, 0, 80, 0, 20), (0, 0, 80, 20, 0), (0, 0, 100, 0, 0), (0, 20, 0, 0, 80), (0, 20, 0, 20, 60), (0, 20, 0, 40, 40), (0, 20, 0, 60, 20), (0, 20, 0, 80, 0), (0, 20, 20, 0, 60), (0, 20, 20, 20, 40), (0, 20, 20, 40, 20), (0, 20, 20, 60, 0), (0, 20, 40, 0, 40), (0, 20, 40, 20, 20), (0, 20, 40, 40, 0), (0, 20, 60, 0, 20), (0, 20, 60, 20, 0), (0, 20, 80, 0, 0), (0, 40, 0, 0, 60), (0, 40, 0, 20, 40), (0, 40, 0, 40, 20), (0, 40, 0, 60, 0), (0, 40, 20, 0, 40), (0, 40, 20, 20, 20), (0, 40, 20, 40, 0), (0, 40, 40, 0, 20), (0, 40, 40, 20, 0), (0, 40, 60, 0, 0), (0, 60, 0, 0, 40), (0, 60, 0, 20, 20), (0, 60, 0, 40, 0), (0, 60, 20, 0, 20), (0, 60, 20, 20, 0), (0, 60, 40, 0, 0), (0, 80, 0, 0, 20), (0, 80, 0, 20, 0), (0, 80, 20, 0, 0), (0, 100, 0, 0, 0), (20, 0, 0, 0, 80), (20, 0, 0, 20, 60), (20, 0, 0, 40, 40), (20, 0, 0, 60, 20), (20, 0, 0, 80, 0), (20, 0, 20, 0, 60), (20, 0, 20, 20, 40), (20, 0, 20, 40, 20), (20, 0, 20, 60, 0), (20, 0, 40, 0, 40), (20, 0, 40, 20, 20), (20, 0, 40, 40, 0), (20, 0, 60, 0, 20), (20, 0, 60, 20, 0), (20, 0, 80, 0, 0), (20, 20, 0, 0, 60), (20, 20, 0, 20, 40), (20, 20, 0, 40, 20), (20, 20, 0, 60, 0), (20, 20, 20, 0, 40), (20, 20, 20, 20, 20), (20, 20, 20, 40, 0), (20, 20, 40, 0, 20), (20, 20, 40, 20, 0), (20, 20, 60, 0, 0), (20, 40, 0, 0, 40), (20, 40, 0, 20, 20), (20, 40, 0, 40, 0), (20, 40, 20, 0, 20), (20, 40, 20, 20, 0), (20, 40, 40, 0, 0), (20, 60, 0, 0, 20), (20, 60, 0, 20, 0), (20, 60, 20, 0, 0), (20, 80, 0, 0, 0), (40, 0, 0, 0, 60), (40, 0, 0, 20, 40), (40, 0, 0, 40, 20), (40, 0, 0, 60, 0), (40, 0, 20, 0, 40), (40, 0, 20, 20, 20), (40, 0, 20, 40, 0), (40, 0, 40, 0, 20), (40, 0, 40, 20, 0), (40, 0, 60, 0, 0), (40, 20, 0, 0, 40), (40, 20, 0, 20, 20), (40, 20, 0, 40, 0), (40, 20, 20, 0, 20), (40, 20, 20, 20, 0), (40, 20, 40, 0, 0), (40, 40, 0, 0, 20), (40, 40, 0, 20, 0), (40, 40, 20, 0, 0), (40, 60, 0, 0, 0), (60, 0, 0, 0, 40), (60, 0, 0, 20, 20), (60, 0, 0, 40, 0), (60, 0, 20, 0, 20), (60, 0, 20, 20, 0), (60, 0, 40, 0, 0), (60, 20, 0, 0, 20), (60, 20, 0, 20, 0), (60, 20, 20, 0, 0), (60, 40, 0, 0, 0), (80, 0, 0, 0, 20), (80, 0, 0, 20, 0), (80, 0, 20, 0, 0), (80, 20, 0, 0, 0), (100, 0, 0, 0, 0)]\n",
      "126\n"
     ]
    }
   ],
   "source": [
    "values = [0,20,40,60,80,100]\n",
    "results = []\n",
    "\n",
    "for i in product(values, repeat = 5):\n",
    "    if sum(i) == 100:\n",
    "        results.append(i)\n",
    "        \n",
    "print(results)\n",
    "print(len(results))"
   ]
  },
  {
   "cell_type": "code",
   "execution_count": 6,
   "metadata": {},
   "outputs": [],
   "source": [
    "df_portfolio_allocation = pd.DataFrame(results)\n",
    "df_portfolio_allocation.to_csv('../data/portfolio_allocations.csv', index = False,header = ['ST', 'CB', 'PB', 'GO', 'CA'])"
   ]
  }
 ],
 "metadata": {
  "interpreter": {
   "hash": "6a3a4ca29f394266abbc258a4afd4b2123267e3d5bb04c5310c8e468d77d8889"
  },
  "kernelspec": {
   "display_name": "Python 3.8.8 64-bit",
   "language": "python",
   "name": "python3"
  },
  "language_info": {
   "codemirror_mode": {
    "name": "ipython",
    "version": 3
   },
   "file_extension": ".py",
   "mimetype": "text/x-python",
   "name": "python",
   "nbconvert_exporter": "python",
   "pygments_lexer": "ipython3",
   "version": "3.8.8"
  },
  "orig_nbformat": 4
 },
 "nbformat": 4,
 "nbformat_minor": 2
}
